{
 "cells": [
  {
   "cell_type": "code",
   "execution_count": 84,
   "id": "afea74c5",
   "metadata": {},
   "outputs": [
    {
     "name": "stdout",
     "output_type": "stream",
     "text": [
      "The autoreload extension is already loaded. To reload it, use:\n",
      "  %reload_ext autoreload\n"
     ]
    }
   ],
   "source": [
    "%load_ext autoreload\n",
    "%autoreload 2"
   ]
  },
  {
   "cell_type": "code",
   "execution_count": null,
   "id": "af8036de",
   "metadata": {},
   "outputs": [],
   "source": [
    "import json\n",
    "import pandas as pd"
   ]
  },
  {
   "cell_type": "code",
   "execution_count": null,
   "id": "8ea35891",
   "metadata": {},
   "outputs": [],
   "source": [
    "lines = []\n",
    "with open(\"annotated/annotated.json\") as fin:\n",
    "    for line in fin.readlines():\n",
    "        lines.append(json.loads(line))\n",
    "\n",
    "lines = pd.DataFrame(lines)\n",
    "\n",
    "lines['sentence_id'] = lines.meta.apply(lambda x: x['sentenceId'])\n",
    "\n",
    "lines = pd.DataFrame(lines[['text', 'annotations', 'sentence_id']])\n",
    "\n",
    "label_lookup = {\n",
    "    21: \"einfache Nennung\",\n",
    "    22: \"Nennung mit Stereotyp\",\n",
    "    23: \"Nennung mit negativen Gefühlen\",\n",
    "}\n",
    "\n",
    "def parse_labels(label_list):\n",
    "    parsed = []\n",
    "    for label in label_list:\n",
    "        parsed.append(\n",
    "            label_lookup[label['label']]\n",
    "        )\n",
    "    return parsed\n",
    "\n",
    "lines['annotations'] = lines.annotations.apply(parse_labels)\n",
    "lines[lines.annotations.apply(len)>1]"
   ]
  },
  {
   "cell_type": "code",
   "execution_count": null,
   "id": "6fc1bd65",
   "metadata": {},
   "outputs": [],
   "source": [
    "from lxml import etree\n",
    "\n",
    "parser=etree.XMLParser(remove_comments=True)\n",
    "tree = etree.fromstring(open(\"outdir/sentencized_charles-destinataires.xml\").read(), parser=parser)"
   ]
  },
  {
   "cell_type": "code",
   "execution_count": null,
   "id": "972725a2",
   "metadata": {},
   "outputs": [],
   "source": [
    "def get_sentence_el(id_):\n",
    "    result = tree.xpath(f\"//tei:s[@id='{id_}']\", namespaces={\n",
    "        \"tei\":\"http://www.tei-c.org/ns/1.0\"\n",
    "    })\n",
    "    if len(result) == 1:\n",
    "        return result[0]\n",
    "    elif len(result) == 0:\n",
    "        return None\n",
    "        raise KeyError(f\"id {id_} not found.\")\n",
    "    else:\n",
    "        raise KeyError(f\"multiple {id_} ids found.\")\n",
    "\n",
    "def get_type(el):\n",
    "    type_ = None\n",
    "    cel = el\n",
    "    while type_ is None and cel.getparent() is not None:\n",
    "        if 'type' in cel.attrib and cel.attrib['type'] in [\"lettre\", \"journal\", \"note\"]:\n",
    "            type_ = cel.attrib['type']\n",
    "        cel = cel.getparent()\n",
    "    return type_\n",
    "\n",
    "def get_chapter(el):\n",
    "    chapter = None\n",
    "    cel = el\n",
    "    while chapter is None and cel.getparent() is not None:\n",
    "        if 'type' in cel.attrib and cel.attrib['type'] == \"chapter\":\n",
    "            chapter = cel.attrib['n']\n",
    "        cel = cel.getparent()\n",
    "    return chapter"
   ]
  },
  {
   "cell_type": "code",
   "execution_count": null,
   "id": "f6a55824",
   "metadata": {},
   "outputs": [],
   "source": [
    "lines = pd.DataFrame(lines[lines.annotations.apply(len)>0])\n",
    "\n",
    "lines['el'] = lines.sentence_id.apply(get_sentence_el)\n",
    "\n",
    "lines = pd.DataFrame(lines[~lines['el'].isnull()])\n",
    "\n",
    "lines['type'] = lines.el.apply(get_type)\n",
    "\n",
    "lines['chapter'] = lines.el.apply(get_chapter)"
   ]
  },
  {
   "cell_type": "raw",
   "id": "c329d691",
   "metadata": {},
   "source": [
    "lines = pd.DataFrame(lines[['text', 'annotations', 'sentence_id', 'type', 'chapter']])\n",
    "\n",
    "lines.to_pickle(\"outdir/merged.pkl\")"
   ]
  },
  {
   "cell_type": "code",
   "execution_count": null,
   "id": "b23f8f68",
   "metadata": {},
   "outputs": [],
   "source": [
    "lines"
   ]
  },
  {
   "cell_type": "code",
   "execution_count": null,
   "id": "973b136e",
   "metadata": {
    "scrolled": false
   },
   "outputs": [],
   "source": [
    "for (chapter, type_), subdf in lines.sort_values([\"chapter\", \"type\"]).groupby([\"chapter\", \"type\"]):\n",
    "    print(chapter)\n",
    "    print(type_)\n",
    "    for _,row in subdf.iterrows():\n",
    "        print(row.text)"
   ]
  }
 ],
 "metadata": {
  "kernelspec": {
   "display_name": "main-env",
   "language": "python",
   "name": "main-env"
  },
  "language_info": {
   "codemirror_mode": {
    "name": "ipython",
    "version": 3
   },
   "file_extension": ".py",
   "mimetype": "text/x-python",
   "name": "python",
   "nbconvert_exporter": "python",
   "pygments_lexer": "ipython3",
   "version": "3.8.2"
  }
 },
 "nbformat": 4,
 "nbformat_minor": 5
}
